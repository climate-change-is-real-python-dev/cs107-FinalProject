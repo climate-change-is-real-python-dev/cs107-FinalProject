{
 "cells": [
  {
   "cell_type": "code",
   "execution_count": 25,
   "metadata": {},
   "outputs": [
    {
     "name": "stdout",
     "output_type": "stream",
     "text": [
      "/Volumes/GoogleDrive/My Drive/Classes/Harvard_Classes/_Current/CS207/cs107-FinalProject/socialAD\n"
     ]
    }
   ],
   "source": [
    "cd /Volumes/GoogleDrive/My Drive/Classes/Harvard_Classes/_Current/CS207/cs107-FinalProject/socialAD"
   ]
  },
  {
   "cell_type": "code",
   "execution_count": 26,
   "metadata": {
    "collapsed": true
   },
   "outputs": [],
   "source": [
    "from forward import *"
   ]
  },
  {
   "cell_type": "markdown",
   "metadata": {},
   "source": [
    "### Partial derivative of equations when inputs are vectors "
   ]
  },
  {
   "cell_type": "code",
   "execution_count": 27,
   "metadata": {
    "collapsed": true
   },
   "outputs": [],
   "source": [
    "a = np.array([3]) # Value of x to be evaluated \n",
    "x = forwardAD(a)\n",
    "x_const = a # will use this in the partial derivative wrt z example below\n",
    "\n",
    "b = np.array([2]) # Value of y to be evaluated \n",
    "y = forwardAD(b)\n",
    "y_const = b # will use this in the partial derivative wrt z example below\n",
    "\n",
    "c = np.array([1, 3, 5]) # Vector of z values to be evaluated \n",
    "z = forwardAD(c)\n"
   ]
  },
  {
   "cell_type": "markdown",
   "metadata": {},
   "source": [
    "$i(x,y,z) = xy + z$\n",
    "\n",
    "$i'(x,y,z) = y + x + 1 = 2 + 3 + 1 = 6$ regardless of z values"
   ]
  },
  {
   "cell_type": "markdown",
   "metadata": {},
   "source": [
    "$j(x, y, z) = x^2 + 2xz$\n",
    "\n",
    "$j'(x, y, z) = 2x + 2z + 2x = 12 + 2z = [14, 18, 22]$\n",
    "\n",
    "= [dj/dx, dj/dy, dj/dz] = [2x + 2z, 0, 2z]\n"
   ]
  },
  {
   "cell_type": "markdown",
   "metadata": {},
   "source": [
    "$k = xz$\n",
    "\n",
    "$k'(x, y, z) = x + z = z + 3 = [4, 6, 8]$\n"
   ]
  },
  {
   "cell_type": "code",
   "execution_count": 28,
   "metadata": {},
   "outputs": [
    {
     "name": "stdout",
     "output_type": "stream",
     "text": [
      "[ 7  9 11] [15 27 39] [ 3  9 15]\n",
      "[6. 6. 6.] [14. 18. 22.] [4. 6. 8.]\n"
     ]
    }
   ],
   "source": [
    "i = x*y+z \n",
    "j = x**2 + 2*x*z\n",
    "k = x*z\n",
    "print(i.val, j.val, k.val)\n",
    "print(i.der, j.der, k.der)\n",
    "\n",
    "# AS WE EXPECTED "
   ]
  },
  {
   "cell_type": "code",
   "execution_count": 31,
   "metadata": {
    "collapsed": true
   },
   "outputs": [],
   "source": [
    "d = np.array([2, 5, 5]) # Value of w to be evaluated \n",
    "w = forwardAD(d)\n",
    "w_const = d"
   ]
  },
  {
   "cell_type": "code",
   "execution_count": 34,
   "metadata": {},
   "outputs": [
    {
     "name": "stdout",
     "output_type": "stream",
     "text": [
      "[ 19  51 115]\n",
      "[ 8. 24. 40.]\n",
      "====================\n",
      "[ 21  69 165]\n",
      "[12. 36. 60.]\n"
     ]
    }
   ],
   "source": [
    "# Perform a partial derivative of  j wrt z\n",
    "# Need to treat the other terms to be constant\n",
    "f_partial_z = x_const**2 + 2*w_const*z**2 + 3*y_const\n",
    "\n",
    "# with another vector input (w_const)\n",
    "print(f_partial_z[0].val)\n",
    "print(f_partial_z[0].der)\n",
    "\n",
    "print('====================')\n",
    "f_partial_z = x_const**2 + 2*x_const*z**2 + 3*y_const\n",
    "\n",
    "# z is the only vector input\n",
    "print(f_partial_z[0].val)\n",
    "print(f_partial_z[0].der)\n",
    "\n"
   ]
  }
 ],
 "metadata": {
  "kernelspec": {
   "display_name": "Python 3",
   "language": "python",
   "name": "python3"
  },
  "language_info": {
   "codemirror_mode": {
    "name": "ipython",
    "version": 3
   },
   "file_extension": ".py",
   "mimetype": "text/x-python",
   "name": "python",
   "nbconvert_exporter": "python",
   "pygments_lexer": "ipython3",
   "version": "3.8.5"
  }
 },
 "nbformat": 4,
 "nbformat_minor": 2
}
