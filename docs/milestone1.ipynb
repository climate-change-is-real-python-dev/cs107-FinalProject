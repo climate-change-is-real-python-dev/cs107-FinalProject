{
 "cells": [
  {
   "cell_type": "markdown",
   "metadata": {
    "cell_id": "00000-1254ef13-8944-49c3-95af-9c2b6f471dad",
    "tags": []
   },
   "source": [
    "# social_AD"
   ]
  },
  {
   "cell_type": "markdown",
   "metadata": {
    "cell_id": "00000-0a85f616-150d-4c1e-90d2-6c897b2db4a0"
   },
   "source": [
    "Developers: \n",
    "\n",
    "1. Dashiell\tYoung-Saver\t   \n",
    "2. Tao\t        Tsui\t        \n",
    "3. Apisada\t    Chulakadabba    \n",
    "4. Jenny\t    Wang\t       "
   ]
  },
  {
   "cell_type": "markdown",
   "metadata": {
    "cell_id": "00001-cf8dd640-e8f4-4aa1-92b7-8bab317f8f07"
   },
   "source": [
    "## Introduction"
   ]
  },
  {
   "cell_type": "markdown",
   "metadata": {
    "cell_id": "00002-e5a840ac-004a-4afe-b4b6-63d242e8ab46"
   },
   "source": [
    "The software aims to provide users with functions that solve derivatives using automatic differentiation. \n",
    "Solving derivatives is an important task in many fields, as derivatives allow for the optimization of functions \n",
    "and for precise descriptions of rates of change. For example, engineers use derivatives to optimize space given material constraints,\n",
    "physicists use derivatives to map particle motion, and economists use derivatives to describe changing markets.\n",
    "\n",
    "We will implement automatic differentiation (AD). AD is a powerful method, as it allows users to solve derivatives \n",
    "for highly complex functions efficiently and with machine precision."
   ]
  },
  {
   "cell_type": "markdown",
   "metadata": {
    "cell_id": "00003-455257f4-2b03-4821-af0d-4b6aa37791f9"
   },
   "source": [
    "## Background"
   ]
  },
  {
   "cell_type": "markdown",
   "metadata": {
    "cell_id": "00004-c3ac3750-7a4a-430c-ad9b-354393a79a7b",
    "tags": []
   },
   "source": [
    "The chain rule is used to evaluate the derivative of a function by differentiating the outer function, multiplied by the derivative of the inner function, until all layers of the function are complete.\n",
    "\n",
    "Suppose we have a function $F(x) = f(g(x))$, then $F'(x) = f'(g(x))g'(x)$.\n",
    "\n",
    "Using Leibniz notation, the chain rule is represented as:\n",
    "\n",
    "$$\\frac{dz}{dx} = \\frac{dz}{dy} \\cdot \\frac{dy}{dx}$$\n",
    "\n",
    "\n",
    "We can traverse a function $f(x)$ by following what happens to its input, $x$. We evaluate from the innermost layer and work our way outwards. For each layer, we calculate its derivative and then feed that as the input to the next layer.\n",
    "\n",
    "Elementary functions (_eg._ $sin$, $cos$, $exp$, $log$) are common in AD applications. These functions always differentiate to fixed solutions; therefore, we will implement methods that evaluate these functions."
   ]
  },
  {
   "cell_type": "markdown",
   "metadata": {
    "cell_id": "00005-8a1dd34a-043a-4966-a288-6d8ca68c206c"
   },
   "source": [
    "## How to use social_AD"
   ]
  },
  {
   "cell_type": "markdown",
   "metadata": {
    "cell_id": "00008-6645ff20-0212-4727-b626-de0e744b4063",
    "tags": []
   },
   "source": [
    "Users can simply download our open-source package _socialAD_ via pip. \n",
    "\n",
    "```\n",
    "pip install socialAD\n",
    "```"
   ]
  },
  {
   "cell_type": "markdown",
   "metadata": {},
   "source": [
    "### Scalar valued functions"
   ]
  },
  {
   "cell_type": "markdown",
   "metadata": {},
   "source": [
    "We can instantiate a `forwardAD` class by evaluating a function `f` at a specific value. "
   ]
  },
  {
   "cell_type": "code",
   "execution_count": 2,
   "metadata": {},
   "outputs": [
    {
     "ename": "ImportError",
     "evalue": "cannot import name 'forward' from 'socialAD' (/Users/jennywang/opt/anaconda3/envs/cs107/lib/python3.8/site-packages/socialAD/__init__.py)",
     "output_type": "error",
     "traceback": [
      "\u001b[0;31m---------------------------------------------------------------------------\u001b[0m",
      "\u001b[0;31mImportError\u001b[0m                               Traceback (most recent call last)",
      "\u001b[0;32m<ipython-input-2-e8195364deec>\u001b[0m in \u001b[0;36m<module>\u001b[0;34m\u001b[0m\n\u001b[0;32m----> 1\u001b[0;31m \u001b[0;32mfrom\u001b[0m \u001b[0msocialAD\u001b[0m \u001b[0;32mimport\u001b[0m \u001b[0mforward\u001b[0m\u001b[0;34m\u001b[0m\u001b[0;34m\u001b[0m\u001b[0m\n\u001b[0m\u001b[1;32m      2\u001b[0m \u001b[0ma\u001b[0m \u001b[0;34m=\u001b[0m \u001b[0;36m3.00\u001b[0m \u001b[0;31m# Value to evaluate at\u001b[0m\u001b[0;34m\u001b[0m\u001b[0;34m\u001b[0m\u001b[0m\n\u001b[1;32m      3\u001b[0m \u001b[0mx\u001b[0m \u001b[0;34m=\u001b[0m \u001b[0mforward\u001b[0m\u001b[0;34m.\u001b[0m\u001b[0mforwardAD\u001b[0m\u001b[0;34m(\u001b[0m\u001b[0ma\u001b[0m\u001b[0;34m)\u001b[0m\u001b[0;34m\u001b[0m\u001b[0;34m\u001b[0m\u001b[0m\n\u001b[1;32m      4\u001b[0m \u001b[0mf\u001b[0m \u001b[0;34m=\u001b[0m \u001b[0mx\u001b[0m \u001b[0;34m-\u001b[0m \u001b[0;34m(\u001b[0m\u001b[0;36m2\u001b[0m \u001b[0;34m-\u001b[0m \u001b[0;36m6\u001b[0m\u001b[0;34m*\u001b[0m\u001b[0mx\u001b[0m \u001b[0;34m-\u001b[0m\u001b[0;36m3\u001b[0m\u001b[0;34m*\u001b[0m\u001b[0mx\u001b[0m\u001b[0;34m**\u001b[0m\u001b[0;36m5\u001b[0m\u001b[0;34m)\u001b[0m\u001b[0;34m\u001b[0m\u001b[0;34m\u001b[0m\u001b[0m\n\u001b[1;32m      5\u001b[0m \u001b[0mprint\u001b[0m\u001b[0;34m(\u001b[0m\u001b[0mf\u001b[0m\u001b[0;34m.\u001b[0m\u001b[0mval\u001b[0m\u001b[0;34m,\u001b[0m \u001b[0mf\u001b[0m\u001b[0;34m.\u001b[0m\u001b[0mder\u001b[0m\u001b[0;34m)\u001b[0m\u001b[0;34m\u001b[0m\u001b[0;34m\u001b[0m\u001b[0m\n",
      "\u001b[0;31mImportError\u001b[0m: cannot import name 'forward' from 'socialAD' (/Users/jennywang/opt/anaconda3/envs/cs107/lib/python3.8/site-packages/socialAD/__init__.py)"
     ]
    }
   ],
   "source": [
    "from socialAD import forward\n",
    "a = 3.00 # Value to evaluate at\n",
    "x = forward.forwardAD(a)\n",
    "f = x - (2 - 6*x -3*x**5)\n",
    "print(f.val, f.der)"
   ]
  },
  {
   "cell_type": "markdown",
   "metadata": {},
   "source": [
    "#### Newton's method"
   ]
  },
  {
   "cell_type": "markdown",
   "metadata": {},
   "source": [
    "We would like to find roots of the function below:"
   ]
  },
  {
   "cell_type": "code",
   "execution_count": 7,
   "metadata": {},
   "outputs": [
    {
     "data": {
      "text/plain": [
       "Text(0.5, 1.0, 'Plot of f(x) Showing Two Roots')"
      ]
     },
     "execution_count": 7,
     "metadata": {},
     "output_type": "execute_result"
    },
    {
     "data": {
      "image/png": "[encoded data removed]",
      "text/plain": [
       "<Figure size 432x288 with 1 Axes>"
      ]
     },
     "metadata": {
      "needs_background": "light"
     },
     "output_type": "display_data"
    }
   ],
   "source": [
    "import numpy as np\n",
    "import matplotlib.pyplot as plt\n",
    "\n",
    "x = np.linspace(2, 10, 1000)\n",
    "f = (x-5)*(x-7)\n",
    "plt.plot(x, f, linewidth = 2)\n",
    "plt.plot(x, np.zeros((1000,)), '--')\n",
    "plt.xlabel('x', fontsize = 16)\n",
    "plt.ylabel('f(x)', fontsize = 16)\n",
    "plt.xticks(fontsize = 14)\n",
    "plt.yticks(fontsize =14)\n",
    "plt.title('Plot of f(x) Showing Two Roots', fontsize = 18)"
   ]
  },
  {
   "cell_type": "code",
   "execution_count": null,
   "metadata": {},
   "outputs": [],
   "source": []
  },
  {
   "cell_type": "code",
   "execution_count": null,
   "metadata": {},
   "outputs": [],
   "source": []
  },
  {
   "cell_type": "code",
   "execution_count": null,
   "metadata": {},
   "outputs": [],
   "source": []
  },
  {
   "cell_type": "code",
   "execution_count": null,
   "metadata": {},
   "outputs": [],
   "source": []
  },
  {
   "cell_type": "markdown",
   "metadata": {
    "cell_id": "00012-22b0bda2-bb8e-4429-8100-5b20f34b2c85",
    "tags": []
   },
   "source": [
    "Then, in you work environment, `import social_AD as sad`\n",
    "\n",
    "To instantiate AD objects, we can simply call `sad.create()` to start an interactive session. After that, users have to input initial variables and equations that they would like to differentiate.\n",
    "\n",
    "For example,\n",
    "```\n",
    ">>> sad.create()\n",
    ">>> How many variables?  [a prompt asking for the # of variables]\n",
    ">>> 2 [user's input for the number of variables]\n",
    ">>> What will you call variable 1? [a prompt asking for a name for each variable]\n",
    ">>> x [user's assignment for variable 1]\n",
    ">>> What will you call variable 2? [a prompt asking for a name for each variable]\n",
    ">>> y  [user's assignment for variable 2]\n",
    ">>> How many equations? [a prompt asking # of equations]\n",
    ">>> 1 [user's input of the number of equations]\n",
    ">>> What is your equation 1? [a prompt asking for the equation]\n",
    ">>> x**2 + y**2 [user's input of the equation of interest]\n",
    ">>> What (x, y) would you want to evaluate the first order derivative? [a prompt asking for coordinates of interest for deffirentiation]\n",
    ">>> (1, 5) [user's input of the coordinate of interest]\n",
    ">>> Results: (2, 10) [return the result]\n",
    "```"
   ]
  },
  {
   "cell_type": "markdown",
   "metadata": {
    "cell_id": "00007-31ad8a61-7910-4ea3-b07c-0c6f61f1d30b"
   },
   "source": [
    "## Software organization"
   ]
  },
  {
   "cell_type": "markdown",
   "metadata": {
    "cell_id": "00010-1028c6d3-bf0c-43b5-ab54-4099891c086a",
    "tags": []
   },
   "source": [
    "\n",
    "**The directory structure will look like this following.**\n",
    "\n",
    "`docs`\n",
    "\n",
    "- Includes documentation, including these subdirectories:\n",
    "\n",
    " - `images`\n",
    "\n",
    " - `documentation`\n",
    "\n",
    " - `project_log`\n",
    "\n",
    "`examples`\n",
    "\n",
    "- Includes example use in social science, including these subdirectories:\n",
    "\n",
    "- `simple_chain_rule`\n",
    "\n",
    "- `economic_rate_of_change`\n",
    "\n",
    "- `social_growth_rate`\n",
    "\n",
    "`social_AD`\n",
    "\n",
    "- Includes all install and method materials\n",
    "\n",
    "README.md\n",
    "\n",
    "- Includes install instructions, terms of use, and CodeCov/TravisCI buttons\n",
    "\n",
    "\n",
    "**Here are the modules and their basic functionality**\n",
    "- forward_mode: computes derivative using forward mode of automatic differentiation\n",
    "- social: computes maximum or minimum of a loss or objective function for applications in social science\n",
    "\n",
    "**We will test our suite live on both TravisCI and CodeCov**\n",
    "\n",
    "**Our package will be available for install from PyPI, and can be installed, updated, or removed using pip3**\n",
    "\n",
    "**Framework for software packaging**\n",
    "- We will package our software using the PyScaffold framework, as it will help facilitate configuration, versioning, and has some helpful extensions \n",
    "such as compatibility with Django and compatibility with Sphinx. For documentation, we will use the Sphinx framework.\n",
    "\n",
    "**Notes**\n",
    "- Our software will be designed in Python3 and will run in Python3 environments"
   ]
  },
  {
   "cell_type": "markdown",
   "metadata": {
    "cell_id": "00009-29e7a27a-b4bb-4f15-80ff-e88b085f7b8e"
   },
   "source": [
    "## Implementation"
   ]
  },
  {
   "cell_type": "markdown",
   "metadata": {
    "cell_id": "00010-e3d899b3-ceb4-4a62-9f28-b2dda0052664"
   },
   "source": [
    "Implementation of the _forward mode_ of automatic differentiation.\n",
    "\n",
    "* Core data structures:\n",
    "\n",
    "Data will be stored in `numpy.array`\n",
    "\n",
    "* Classes:\n",
    "\n",
    "    `differential_equation`\n",
    "    `equation`\n",
    "    `optimize`\n",
    "\n",
    "* Methods and names:\n",
    "    * `differential_equation`\n",
    "        * `seed` attribute\n",
    "        * `evaluate` method\n",
    "    * `equation`\n",
    "        * `f` attribute (converting the inputs to `numpy` formats)\n",
    "        * `jacobian` method\n",
    "    * `optimize` \n",
    "        * `domain` attribute\n",
    "        * `application` attribute\n",
    "        * `max` method: calculating maximum objective/loss function\n",
    "        * `min` method: calculating minimum objective/loss function\n",
    "\n",
    "\n",
    "* External dependencies:\n",
    "\n",
    "    * `numpy`\n",
    "    * `math`\n",
    "\n",
    "\n",
    "* Elementary function conventions:\n",
    "\n",
    "    We will provide a cheat sheet for the users of how to incorporate those functions in the inputs (basic `numpy` conventions). Once inputted, we will create a set of derivative\n",
    "    rules for each elementary function (sin -> cos, exp -> exp, etc.) and apply those to each of the inputs in our trace table. \n",
    "\n",
    "    We will ensure our functions for optimization can be used in a variety of social science domains. For example, different disciplines will want to minimize different loss functions. Our methods will be robust enough to handle these various types of functions.\n"
   ]
  },
  {
   "cell_type": "markdown",
   "metadata": {},
   "source": [
    "# Feedback"
   ]
  },
  {
   "cell_type": "markdown",
   "metadata": {},
   "source": [
    "Introduction: 2/2\n",
    "\n",
    "Really great job motivating automatic differentiation.\n",
    "\n",
    "\n",
    "Background: 2/2\n",
    "\n",
    "Totally sufficient\n",
    "\n",
    "How to Use: 3/3\n",
    "\n",
    "Some comments to steer you in the right direction\n",
    "\n",
    "- A good starting point for core functionality is the ToyAD module in HW4. As such, I think it makes sense to start off relying on python to handle order of operations and not worrying about parsing functions as user input is probably more straightforward. This would also change how you interact with the package, though I don't expect you to update this section as part of Milestone2a.\n",
    "\n",
    "\n",
    "Software Organization: 3/3\n",
    "\n",
    "This is super nice and straightforward. I wouldn't be surprised if you find that PyScaffold isn't totally necessary, but it certainly won't slow you down. \n",
    "\n",
    "\n",
    "Implementation: 5/5\n",
    "\n",
    "This looks really good. I'd definitely lean on Numpy, which can do a lot of stuff for you you wouldn't expect.\n",
    "\n",
    "\n",
    "Overall: 15/15\n",
    "\n",
    "This is a really strong start, and you definitely tick all the boxes. Again, I'd emphasize that having this interactive shell is totally not necessary, and It would definitely make sense to start by just importing your module and calling it with standard python code. Parsing is a pain and is definitely not worth your immediate attention.\n",
    "\n"
   ]
  },
  {
   "cell_type": "markdown",
   "metadata": {
    "collapsed": true
   },
   "source": [
    "# M2A Response to the feedback \n",
    "\n",
    "Introduction: 2/2\n",
    "\n",
    "\n",
    "<span style=\"color:blue\">* // We assume no action needed for this* </span>\n",
    "\n",
    "\n",
    "Background: 2/2\n",
    "\n",
    "\n",
    "<span style=\"color:blue\">* // We assume no action needed for this* </span>\n",
    "\n",
    "\n",
    "How to Use: 3/3\n",
    "\n",
    "\n",
    "<span style=\"color:blue\">* // We assume no action needed for this, but we can refer back to the ToyAD module in HW4 to help us to implement the basic functionality. We won't worry about parsing functions as user input.* </span>\n",
    "\n",
    "\n",
    "Software Organization: 3/3\n",
    "\n",
    "\n",
    "<span style=\"color:blue\">* // As per simon's comments we don't have to use PyScaffold in this project, but we may explore PyScaffold if time permits. We will consult [this tutorial](https://python-packaging-tutorial.readthedocs.io/en/latest/setup_py.html) and see whether we can create a package without using PyScaffold. If we can, we will remove the PyScaffold part from our docs. * </span>\n",
    "\n",
    "Implementation: 5/5\n",
    "\n",
    "<span style=\"color:blue\">* // We assume no action needed for this* </span>\n",
    "\n",
    "\n",
    "Overall: 15/15\n",
    "\n",
    "<span style=\"color:blue\">* // We assume no action needed for this* </span>\n",
    "\n",
    "\n"
   ]
  },
  {
   "cell_type": "code",
   "execution_count": null,
   "metadata": {
    "collapsed": true
   },
   "outputs": [],
   "source": []
  }
 ],
 "metadata": {
  "deepnote_execution_queue": [],
  "deepnote_notebook_id": "3eac3726-a554-43bb-9197-7eb15e708b24",
  "kernelspec": {
   "display_name": "Python 3",
   "language": "python",
   "name": "python3"
  },
  "language_info": {
   "codemirror_mode": {
    "name": "ipython",
    "version": 3
   },
   "file_extension": ".py",
   "mimetype": "text/x-python",
   "name": "python",
   "nbconvert_exporter": "python",
   "pygments_lexer": "ipython3",
   "version": "3.8.5"
  }
 },
 "nbformat": 4,
 "nbformat_minor": 4
}
