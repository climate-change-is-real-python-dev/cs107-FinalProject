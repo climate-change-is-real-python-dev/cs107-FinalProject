{
 "cells": [
  {
   "cell_type": "markdown",
   "metadata": {},
   "source": [
    "# Group 29 M2B\n",
    "## What tasks has each group member been assigned to for Milestone2.\n",
    "\n",
    "We work in pairs\n",
    "\n",
    "Jenny Wang & Ju Chulakadabba: CodeCov & driver script (requirements.txt or README)\n",
    "\n",
    "Tao Tsui & Dashiell Young-Saver: basic implementation of our AD\n",
    "\n",
    "All: documentation & Jacobian \n",
    "\n",
    "## What has each group member done since the submission of Milestone1.\n",
    "\n",
    "### Collectively figured: \n",
    "\n",
    "2A\n",
    "\n",
    "1) CodeCov (getting started) & TravisCI \n",
    "\n",
    "2) Extension\n",
    "\n",
    "### In pairs:\n",
    "\n",
    "2B\n",
    "\n",
    "4) CodeCov (Jenny and Ju) \n",
    "\n",
    "5) Getting started on the basic implementation (Dashiell and Tao) "
   ]
  },
  {
   "cell_type": "code",
   "execution_count": null,
   "metadata": {
    "collapsed": true
   },
   "outputs": [],
   "source": []
  }
 ],
 "metadata": {
  "kernelspec": {
   "display_name": "Python 3",
   "language": "python",
   "name": "python3"
  },
  "language_info": {
   "codemirror_mode": {
    "name": "ipython",
    "version": 3
   },
   "file_extension": ".py",
   "mimetype": "text/x-python",
   "name": "python",
   "nbconvert_exporter": "python",
   "pygments_lexer": "ipython3",
   "version": "3.7.6"
  }
 },
 "nbformat": 4,
 "nbformat_minor": 2
}
