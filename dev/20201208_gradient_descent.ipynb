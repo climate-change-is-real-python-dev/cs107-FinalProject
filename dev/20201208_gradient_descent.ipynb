{
 "cells": [
  {
   "cell_type": "code",
   "execution_count": 1,
   "metadata": {},
   "outputs": [
    {
     "name": "stdout",
     "output_type": "stream",
     "text": [
      "/Volumes/GoogleDrive/My Drive/Classes/Harvard_Classes/_Current/CS207/cs107-FinalProject/socialAD\n"
     ]
    }
   ],
   "source": [
    "cd /Volumes/GoogleDrive/My Drive/Classes/Harvard_Classes/_Current/CS207/cs107-FinalProject/socialAD"
   ]
  },
  {
   "cell_type": "code",
   "execution_count": 2,
   "metadata": {
    "collapsed": true
   },
   "outputs": [],
   "source": [
    "from forward import *"
   ]
  },
  {
   "cell_type": "code",
   "execution_count": 3,
   "metadata": {
    "collapsed": true
   },
   "outputs": [],
   "source": [
    "import numpy as np\n",
    "from scipy.optimize import minimize\n",
    "import matplotlib.pyplot as plt\n",
    "from matplotlib import cm, ticker\n",
    "\n",
    "from scipy.optimize import line_search\n"
   ]
  },
  {
   "cell_type": "code",
   "execution_count": 21,
   "metadata": {
    "collapsed": true
   },
   "outputs": [],
   "source": [
    "import time"
   ]
  },
  {
   "cell_type": "code",
   "execution_count": 20,
   "metadata": {},
   "outputs": [
    {
     "name": "stdout",
     "output_type": "stream",
     "text": [
      "41469.235458223\n",
      "41469.245498636\n"
     ]
    }
   ],
   "source": []
  },
  {
   "cell_type": "code",
   "execution_count": null,
   "metadata": {},
   "outputs": [],
   "source": []
  },
  {
   "cell_type": "code",
   "execution_count": 22,
   "metadata": {},
   "outputs": [
    {
     "data": {
      "text/plain": [
       "array([13,  6])"
      ]
     },
     "execution_count": 22,
     "metadata": {},
     "output_type": "execute_result"
    }
   ],
   "source": [
    "np.array([dfx1(x0), dfx2(x0)])"
   ]
  },
  {
   "cell_type": "code",
   "execution_count": 5,
   "metadata": {
    "collapsed": true
   },
   "outputs": [],
   "source": [
    "#\n",
    "def obj_func(param):\n",
    "    x, y = param\n",
    "    return 100 *(y - (x)**2)**2 +(1 - x)**2\n",
    "def obj_grad(param):\n",
    "    x, y = param\n",
    "    return np.array([2 *(-1 + x + 200 *x**3 - 200* x *y), 200* (-x**2 + y)] )\n",
    "# analytical solution \n",
    "\n",
    "\n"
   ]
  },
  {
   "cell_type": "code",
   "execution_count": 6,
   "metadata": {
    "collapsed": true
   },
   "outputs": [],
   "source": [
    "def visual(x1, x2, y1, y2, POINTS, F):    \n",
    "    all_x = np.linspace(x1, x2, 100)\n",
    "    all_y = np.linspace(y1, y2, 100)\n",
    "    all_z = F(np.meshgrid(all_x, all_y))\n",
    "    p_array = np.array(POINTS)\n",
    "    x = p_array[:, 0]\n",
    "    y = p_array[:, 1] \n",
    "    plt.contourf(all_x, all_y, all_z, cmap\\\n",
    "                 = cm.copper, locator=ticker.LogLocator())\n",
    "    plt.plot(x, y, marker='x', color = 'white')\n",
    "    plt.colorbar()\n",
    "    plt.xlim((x1, x2))\n",
    "    plt.ylim((y1, y2))\n",
    "    plt.show()"
   ]
  },
  {
   "cell_type": "code",
   "execution_count": 23,
   "metadata": {},
   "outputs": [
    {
     "name": "stdout",
     "output_type": "stream",
     "text": [
      "[[2. 3.]\n",
      " [6. 4.]]\n",
      "[[ 6]\n",
      " [13]]\n",
      "[2. 3.]\n"
     ]
    }
   ],
   "source": [
    "a = np.array([3]) # Value of x to be evaluated \n",
    "x = forwardAD(a, numvar = 2, idx = 0)\n",
    "\n",
    "b = np.array([2]) # Value of y to be evaluated \n",
    "y = forwardAD(b, numvar = 2, idx = 1)\n",
    "\n",
    "f1 = x*y\n",
    "f2 = x**2 + y**2\n",
    "\n",
    "sys = vector_func(f1, f2)\n",
    "print(sys.jacobian())\n",
    "print(sys.values())\n",
    "print(f1.der)"
   ]
  },
  {
   "cell_type": "code",
   "execution_count": 39,
   "metadata": {},
   "outputs": [
    {
     "name": "stdout",
     "output_type": "stream",
     "text": [
      "Time elapsed: 0.00039381799433613196 seconds \n",
      "\n",
      "Final step size : 0.32768000000000014\n"
     ]
    }
   ],
   "source": [
    "#  Backtracking line search algorithm\n",
    "\n",
    "\n",
    "import numpy as np\n",
    "alpha = 0.3\n",
    "beta = 0.8\n",
    "\n",
    "f = lambda x: (x[0]**2 + 3*x[1]*x[0] + 12)\n",
    "\n",
    "# TRADITIONALLY \n",
    "dfx1 = lambda x: (2*x[0] + 3*x[1])\n",
    "dfx2 = lambda x: (3*x[0])\n",
    "\n",
    "\n",
    "\n",
    "t = 1\n",
    "count = 1\n",
    "x0 = np.array([2,3])  # initial guess \n",
    "dx0 = np.array([.1, 0.05])\n",
    "\n",
    "\n",
    "def backtrack(x0, dfx1, dfx2, t, alpha, beta, count):\n",
    "    t_start = time.monotonic()\n",
    "\n",
    "\n",
    "    while (f(x0) - (f(x0 - t*np.array([dfx1(x0), dfx2(x0)])) + alpha * t * np.dot(np.array([dfx1(x0), dfx2(x0)]), np.array([dfx1(x0), dfx2(x0)])))) < 0:\n",
    "        t *= beta\n",
    "#         print(\"\"\"\n",
    "# ###  iteration {}   ###\n",
    "# \"\"\".format(count))\n",
    "#         print(\"Inequality: \",  f(x0) - (f(x0 - t*np.array([dfx1(x0), dfx2(x0)])) + alpha * t * np.dot(np.array([dfx1(x0), dfx2(x0)]), np.array([dfx1(x0), dfx2(x0)]))))\n",
    "        count += 1\n",
    "    t_stop = time.monotonic()\n",
    "    print( f'Time elapsed: {t_stop - t_start} seconds ')\n",
    "    return t\n",
    "\n",
    "t = backtrack(x0, dfx1, dfx2, t, alpha, beta, count)\n",
    "\n",
    "# find the distance \"t\" \n",
    "\n",
    "print(\"\\nFinal step size :\",  t)\n"
   ]
  },
  {
   "cell_type": "code",
   "execution_count": 37,
   "metadata": {},
   "outputs": [],
   "source": [
    "# Try to optimize... does not really work \n",
    "# t = 1\n",
    "# count = 1\n",
    "# x0 = np.array([2,3])\n",
    "# dx0 = np.array([.1, 0.05])\n",
    "\n",
    "\n",
    "# def backtrack(x0, dfx1, dfx2, t, alpha, beta, count):\n",
    "#     t_start = time.monotonic()\n",
    "\n",
    "#     fx0 = f(x0)\n",
    "#     grad = np.array([dfx1(x0), dfx2(x0)])\n",
    "#     while (fx0 - (f(x0 - t*grad) + alpha * t * np.dot(grad, grad))) < 0:\n",
    "#         t *= beta\n",
    "#         count += 1\n",
    "#     t_stop = time.monotonic()\n",
    "#     print( f'Time elapsed: {t_stop - t_start} seconds ')\n",
    "#     return t\n",
    "\n",
    "# t = backtrack(x0, dfx1, dfx2, t, alpha, beta, count)\n",
    "\n",
    "# # find the distance \"t\" \n",
    "\n",
    "# print(\"\\nfinal step size :\",  t)\n"
   ]
  },
  {
   "cell_type": "code",
   "execution_count": 38,
   "metadata": {},
   "outputs": [
    {
     "name": "stdout",
     "output_type": "stream",
     "text": [
      "Time elapsed: 0.00010402500629425049 seconds \n",
      "\n",
      "Final step size : 0.32768000000000014\n"
     ]
    }
   ],
   "source": [
    "\n",
    "###############\n",
    "# USING OUR PACAKGE \n",
    "\n",
    "a = np.array([2])\n",
    "x = forwardAD(a, numvar = 2, idx = 0)\n",
    "\n",
    "b = np.array([3]) \n",
    "y = forwardAD(b, numvar = 2, idx = 1)\n",
    "\n",
    "f_AD =(x)**2 + 3*y*x + 12\n",
    "\n",
    "\n",
    "t = 1\n",
    "count = 1\n",
    "x0 = np.array([2,3]) # initial guess \n",
    "# dx0 = np.array([.1, 0.05])\n",
    "\n",
    "\n",
    "\n",
    "def backtrack_AD(x0, t, alpha, beta, count):\n",
    "    t_start = time.monotonic()\n",
    "    x = forwardAD(x0[0], numvar = 2, idx = 0)\n",
    "    y = forwardAD(x0[1], numvar = 2, idx = 1)\n",
    "    f_AD =(x)**2 + 3*y*x + 12\n",
    "    \n",
    "    while (f_AD.val - (f(x0 - t*f_AD.der) + alpha * t * np.dot( f_AD.der, f_AD.der))) < 0:\n",
    "        t *= beta\n",
    "        count += 1\n",
    "    t_stop = time.monotonic()\n",
    "    print( f'Time elapsed: {t_stop - t_start} seconds ')    \n",
    "    return t\n",
    "\n",
    "t = backtrack_AD(x0, t, alpha, beta, count)\n",
    "\n",
    "\n",
    "\n",
    "# find the distance \"t\" \n",
    "\n",
    "print(\"\\nFinal step size :\",  t)"
   ]
  },
  {
   "cell_type": "code",
   "execution_count": null,
   "metadata": {
    "collapsed": true
   },
   "outputs": [],
   "source": [
    "# vs  0.001603826996870339 seconds "
   ]
  },
  {
   "cell_type": "code",
   "execution_count": null,
   "metadata": {},
   "outputs": [],
   "source": [
    "# A SIMPLE WAY OF PERFORMING STEEPEST GRADIENT \n",
    "\n",
    "\n",
    "\n",
    "\n",
    "\n",
    "t = 1\n",
    "count = 1\n",
    "\n",
    "def backtrack_AD(x0, t, alpha, beta, count):\n",
    "    t_start = time.monotonic()\n",
    "    x = forwardAD(x0[0], numvar = 2, idx = 0)\n",
    "    y = forwardAD(x0[1], numvar = 2, idx = 1)\n",
    "    f_AD =(x)**2 + 3*y*x + 12\n",
    "    \n",
    "    while (f_AD.val - (f(x0 - t*f_AD.der) + alpha * t * np.dot( f_AD.der, f_AD.der))) < 0:\n",
    "        t *= beta\n",
    "        count += 1\n",
    "    t_stop = time.monotonic()\n",
    "    #print( f'Time elapsed: {t_stop - t_start} seconds ')    \n",
    "    return t\n",
    "\n",
    "t = backtrack_AD(x0, t, alpha, beta, count)\n",
    "\n",
    "\n",
    "iter_n = 0\n",
    "max_iter = 2000\n",
    "delta_points = 1\n",
    "p = 1e-8\n",
    "\n",
    "\n",
    "################################################\n",
    "t_start_opt = time.monotonic()\n",
    "\n",
    "points = np.array([2, 3]) # x0\n",
    "\n",
    "# grad = - obj_grad(points)\n",
    "\n",
    "all_points = []\n",
    "all_points.append(points)\n",
    "\n",
    "\n",
    "x = forwardAD(points[0], numvar = 2, idx = 0)\n",
    "y = forwardAD(points[1], numvar = 2, idx = 1)\n",
    "f_AD =(x)**2 + 3*y*x + 12\n",
    "\n",
    "grad = - f_AD.der    \n",
    "while delta_points > p and iter_n < max_iter:\n",
    "#     alpha, fc, gc, new_fval, old_fval, new_slope = line_search(obj_func, obj_grad, points, grad) \n",
    "    t = backtrack_AD(points, 1, alpha, beta, 1)\n",
    "    new_points = points + grad*t \n",
    "    delta_points = np.sqrt((new_points[0] - points[0])**2 + (new_points[1] - points[1])**2)\n",
    "    iter_n += 1\n",
    "    \n",
    "\n",
    "    points = new_points\n",
    "    x = forwardAD(points[0], numvar = 2, idx = 0)\n",
    "    y = forwardAD(points[1], numvar = 2, idx = 1)\n",
    "    f_AD =(x)**2 + 3*y*x + 12\n",
    "    \n",
    "    grad = -f_AD.der\n",
    "    all_points.append(points)\n",
    "    print(f\"Iteration #{iter_n}, {points}\")\n",
    "t_stop_opt = time.monotonic()\n",
    "\n",
    "print(f'OPTIMIZATION elapsed time: {t_stop_opt - t_start_opt} seconds ')  \n",
    "print(f\"After {iter_n} iterations, the minimum point is estimated to be at {points}\")"
   ]
  },
  {
   "cell_type": "markdown",
   "metadata": {},
   "source": [
    "### (a) Minimize Rosenbrock’s function using steepest descent."
   ]
  },
  {
   "cell_type": "code",
   "execution_count": 42,
   "metadata": {},
   "outputs": [
    {
     "ename": "NameError",
     "evalue": "name 'obj_grad' is not defined",
     "output_type": "error",
     "traceback": [
      "\u001b[0;31m---------------------------------------------------------------------------\u001b[0m",
      "\u001b[0;31mNameError\u001b[0m                                 Traceback (most recent call last)",
      "\u001b[0;32m<ipython-input-42-e87a8790b46a>\u001b[0m in \u001b[0;36m<module>\u001b[0;34m()\u001b[0m\n\u001b[1;32m      1\u001b[0m \u001b[0;31m# traditional way of doing this\u001b[0m\u001b[0;34m\u001b[0m\u001b[0;34m\u001b[0m\u001b[0;34m\u001b[0m\u001b[0m\n\u001b[1;32m      2\u001b[0m \u001b[0mpoints\u001b[0m \u001b[0;34m=\u001b[0m \u001b[0mnp\u001b[0m\u001b[0;34m.\u001b[0m\u001b[0marray\u001b[0m\u001b[0;34m(\u001b[0m\u001b[0;34m[\u001b[0m\u001b[0;36m2\u001b[0m\u001b[0;34m,\u001b[0m\u001b[0;36m3\u001b[0m\u001b[0;34m]\u001b[0m\u001b[0;34m)\u001b[0m\u001b[0;34m\u001b[0m\u001b[0;34m\u001b[0m\u001b[0m\n\u001b[0;32m----> 3\u001b[0;31m \u001b[0mgrad\u001b[0m \u001b[0;34m=\u001b[0m \u001b[0;34m-\u001b[0m\u001b[0mobj_grad\u001b[0m\u001b[0;34m(\u001b[0m\u001b[0mpoints\u001b[0m\u001b[0;34m)\u001b[0m\u001b[0;34m\u001b[0m\u001b[0;34m\u001b[0m\u001b[0m\n\u001b[0m\u001b[1;32m      4\u001b[0m \u001b[0miter_n\u001b[0m \u001b[0;34m=\u001b[0m \u001b[0;36m0\u001b[0m\u001b[0;34m\u001b[0m\u001b[0;34m\u001b[0m\u001b[0m\n\u001b[1;32m      5\u001b[0m \u001b[0mmax_iter\u001b[0m \u001b[0;34m=\u001b[0m \u001b[0;36m2000\u001b[0m\u001b[0;34m\u001b[0m\u001b[0;34m\u001b[0m\u001b[0m\n",
      "\u001b[0;31mNameError\u001b[0m: name 'obj_grad' is not defined"
     ]
    }
   ],
   "source": [
    "# traditional way of doing this \n",
    "points = np.array([2,3]) \n",
    "grad = -obj_grad(points)\n",
    "iter_n = 0\n",
    "max_iter = 2000\n",
    "delta_points = 1\n",
    "p = 1e-8\n",
    "all_points = []\n",
    "all_points.append(points)\n",
    "while delta_points > p and iter_n < max_iter:\n",
    "    alpha, fc, gc, new_fval, old_fval, new_slope = line_search(obj_func, obj_grad, points, grad) \n",
    "#    if np.mod(iter_n, 250) == 0:\n",
    "#         print(points)\n",
    "#         print(delta_points)\n",
    "    new_points = points + grad*alpha \n",
    "    delta_points = np.sqrt((new_points[0] - points[0])**2 + (new_points[1] - points[1])**2)\n",
    "    grad = -new_slope\n",
    "    iter_n += 1\n",
    "    points = new_points\n",
    "    all_points.append(points)\n",
    "\n",
    "print(f\"After {iter_n} iterations, the minimum point is estimated to be at {points}\")"
   ]
  },
  {
   "cell_type": "code",
   "execution_count": null,
   "metadata": {
    "collapsed": true
   },
   "outputs": [],
   "source": []
  }
 ],
 "metadata": {
  "kernelspec": {
   "display_name": "Python 3",
   "language": "python",
   "name": "python3"
  },
  "language_info": {
   "codemirror_mode": {
    "name": "ipython",
    "version": 3
   },
   "file_extension": ".py",
   "mimetype": "text/x-python",
   "name": "python",
   "nbconvert_exporter": "python",
   "pygments_lexer": "ipython3",
   "version": "3.6.10"
  }
 },
 "nbformat": 4,
 "nbformat_minor": 2
}
